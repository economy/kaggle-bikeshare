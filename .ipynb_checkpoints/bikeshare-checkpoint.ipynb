{
 "cells": [
  {
   "cell_type": "code",
   "execution_count": 83,
   "metadata": {
    "collapsed": false
   },
   "outputs": [],
   "source": [
    "import pandas as pd\n",
    "import numpy as np\n",
    "from sklearn.ensemble import GradientBoostingRegressor\n",
    "from sklearn.ensemble import GradientBoostingClassifier\n",
    "import scipy.stats as stats\n",
    "import matplotlib.pyplot as plt\n",
    "from __future__ import division\n",
    "%matplotlib inline"
   ]
  },
  {
   "cell_type": "code",
   "execution_count": 2,
   "metadata": {
    "collapsed": false
   },
   "outputs": [
    {
     "name": "stdout",
     "output_type": "stream",
     "text": [
      "total 2328\r\n",
      "-rw-r--r--@ 1 economy  staff      19 Apr 18  2015 README.md\r\n",
      "-rw-r--r--  1 economy  staff  204916 Jul  5 19:52 bikeshare.ipynb\r\n",
      "-rw-r-----@ 1 economy  staff  323856 Apr 18  2015 test.csv\r\n",
      "-rw-r-----@ 1 economy  staff  648353 Apr 18  2015 train.csv\r\n"
     ]
    }
   ],
   "source": [
    "ll"
   ]
  },
  {
   "cell_type": "code",
   "execution_count": 3,
   "metadata": {
    "collapsed": true
   },
   "outputs": [],
   "source": [
    "# From : https://www.kaggle.com/c/bike-sharing-demand/details"
   ]
  },
  {
   "cell_type": "code",
   "execution_count": 4,
   "metadata": {
    "collapsed": false
   },
   "outputs": [],
   "source": [
    "train = pd.DataFrame.from_csv('train.csv', sep=',')\n",
    "test = pd.DataFrame.from_csv('test.csv', sep=',')"
   ]
  },
  {
   "cell_type": "markdown",
   "metadata": {},
   "source": [
    "## Notes\n",
    "- 'count' is response variable\n",
    "- objective is to predict 'count' given season, holiday, workingday, weather, temp, atemp, humidity, windspeed, casual, registered"
   ]
  },
  {
   "cell_type": "code",
   "execution_count": 5,
   "metadata": {
    "collapsed": false
   },
   "outputs": [
    {
     "data": {
      "text/html": [
       "<div style=\"max-height:1000px;max-width:1500px;overflow:auto;\">\n",
       "<table border=\"1\" class=\"dataframe\">\n",
       "  <thead>\n",
       "    <tr style=\"text-align: right;\">\n",
       "      <th></th>\n",
       "      <th>season</th>\n",
       "      <th>holiday</th>\n",
       "      <th>workingday</th>\n",
       "      <th>weather</th>\n",
       "      <th>temp</th>\n",
       "      <th>atemp</th>\n",
       "      <th>humidity</th>\n",
       "      <th>windspeed</th>\n",
       "      <th>casual</th>\n",
       "      <th>registered</th>\n",
       "      <th>count</th>\n",
       "    </tr>\n",
       "    <tr>\n",
       "      <th>datetime</th>\n",
       "      <th></th>\n",
       "      <th></th>\n",
       "      <th></th>\n",
       "      <th></th>\n",
       "      <th></th>\n",
       "      <th></th>\n",
       "      <th></th>\n",
       "      <th></th>\n",
       "      <th></th>\n",
       "      <th></th>\n",
       "      <th></th>\n",
       "    </tr>\n",
       "  </thead>\n",
       "  <tbody>\n",
       "    <tr>\n",
       "      <th>2011-01-01 00:00:00</th>\n",
       "      <td> 1</td>\n",
       "      <td> 0</td>\n",
       "      <td> 0</td>\n",
       "      <td> 1</td>\n",
       "      <td> 9.84</td>\n",
       "      <td> 14.395</td>\n",
       "      <td> 81</td>\n",
       "      <td> 0</td>\n",
       "      <td> 3</td>\n",
       "      <td> 13</td>\n",
       "      <td> 16</td>\n",
       "    </tr>\n",
       "    <tr>\n",
       "      <th>2011-01-01 01:00:00</th>\n",
       "      <td> 1</td>\n",
       "      <td> 0</td>\n",
       "      <td> 0</td>\n",
       "      <td> 1</td>\n",
       "      <td> 9.02</td>\n",
       "      <td> 13.635</td>\n",
       "      <td> 80</td>\n",
       "      <td> 0</td>\n",
       "      <td> 8</td>\n",
       "      <td> 32</td>\n",
       "      <td> 40</td>\n",
       "    </tr>\n",
       "    <tr>\n",
       "      <th>2011-01-01 02:00:00</th>\n",
       "      <td> 1</td>\n",
       "      <td> 0</td>\n",
       "      <td> 0</td>\n",
       "      <td> 1</td>\n",
       "      <td> 9.02</td>\n",
       "      <td> 13.635</td>\n",
       "      <td> 80</td>\n",
       "      <td> 0</td>\n",
       "      <td> 5</td>\n",
       "      <td> 27</td>\n",
       "      <td> 32</td>\n",
       "    </tr>\n",
       "    <tr>\n",
       "      <th>2011-01-01 03:00:00</th>\n",
       "      <td> 1</td>\n",
       "      <td> 0</td>\n",
       "      <td> 0</td>\n",
       "      <td> 1</td>\n",
       "      <td> 9.84</td>\n",
       "      <td> 14.395</td>\n",
       "      <td> 75</td>\n",
       "      <td> 0</td>\n",
       "      <td> 3</td>\n",
       "      <td> 10</td>\n",
       "      <td> 13</td>\n",
       "    </tr>\n",
       "    <tr>\n",
       "      <th>2011-01-01 04:00:00</th>\n",
       "      <td> 1</td>\n",
       "      <td> 0</td>\n",
       "      <td> 0</td>\n",
       "      <td> 1</td>\n",
       "      <td> 9.84</td>\n",
       "      <td> 14.395</td>\n",
       "      <td> 75</td>\n",
       "      <td> 0</td>\n",
       "      <td> 0</td>\n",
       "      <td>  1</td>\n",
       "      <td>  1</td>\n",
       "    </tr>\n",
       "  </tbody>\n",
       "</table>\n",
       "</div>"
      ],
      "text/plain": [
       "                     season  holiday  workingday  weather  temp   atemp  \\\n",
       "datetime                                                                  \n",
       "2011-01-01 00:00:00       1        0           0        1  9.84  14.395   \n",
       "2011-01-01 01:00:00       1        0           0        1  9.02  13.635   \n",
       "2011-01-01 02:00:00       1        0           0        1  9.02  13.635   \n",
       "2011-01-01 03:00:00       1        0           0        1  9.84  14.395   \n",
       "2011-01-01 04:00:00       1        0           0        1  9.84  14.395   \n",
       "\n",
       "                     humidity  windspeed  casual  registered  count  \n",
       "datetime                                                             \n",
       "2011-01-01 00:00:00        81          0       3          13     16  \n",
       "2011-01-01 01:00:00        80          0       8          32     40  \n",
       "2011-01-01 02:00:00        80          0       5          27     32  \n",
       "2011-01-01 03:00:00        75          0       3          10     13  \n",
       "2011-01-01 04:00:00        75          0       0           1      1  "
      ]
     },
     "execution_count": 5,
     "metadata": {},
     "output_type": "execute_result"
    }
   ],
   "source": [
    "train.head()"
   ]
  },
  {
   "cell_type": "code",
   "execution_count": 22,
   "metadata": {
    "collapsed": false
   },
   "outputs": [
    {
     "data": {
      "text/html": [
       "<div style=\"max-height:1000px;max-width:1500px;overflow:auto;\">\n",
       "<table border=\"1\" class=\"dataframe\">\n",
       "  <thead>\n",
       "    <tr style=\"text-align: right;\">\n",
       "      <th></th>\n",
       "      <th>season</th>\n",
       "      <th>holiday</th>\n",
       "      <th>workingday</th>\n",
       "      <th>weather</th>\n",
       "      <th>temp</th>\n",
       "      <th>atemp</th>\n",
       "      <th>humidity</th>\n",
       "      <th>windspeed</th>\n",
       "    </tr>\n",
       "    <tr>\n",
       "      <th>datetime</th>\n",
       "      <th></th>\n",
       "      <th></th>\n",
       "      <th></th>\n",
       "      <th></th>\n",
       "      <th></th>\n",
       "      <th></th>\n",
       "      <th></th>\n",
       "      <th></th>\n",
       "    </tr>\n",
       "  </thead>\n",
       "  <tbody>\n",
       "    <tr>\n",
       "      <th>2011-01-20 00:00:00</th>\n",
       "      <td> 1</td>\n",
       "      <td> 0</td>\n",
       "      <td> 1</td>\n",
       "      <td> 1</td>\n",
       "      <td> 10.66</td>\n",
       "      <td> 11.365</td>\n",
       "      <td> 56</td>\n",
       "      <td> 26.0027</td>\n",
       "    </tr>\n",
       "    <tr>\n",
       "      <th>2011-01-20 01:00:00</th>\n",
       "      <td> 1</td>\n",
       "      <td> 0</td>\n",
       "      <td> 1</td>\n",
       "      <td> 1</td>\n",
       "      <td> 10.66</td>\n",
       "      <td> 13.635</td>\n",
       "      <td> 56</td>\n",
       "      <td>  0.0000</td>\n",
       "    </tr>\n",
       "    <tr>\n",
       "      <th>2011-01-20 02:00:00</th>\n",
       "      <td> 1</td>\n",
       "      <td> 0</td>\n",
       "      <td> 1</td>\n",
       "      <td> 1</td>\n",
       "      <td> 10.66</td>\n",
       "      <td> 13.635</td>\n",
       "      <td> 56</td>\n",
       "      <td>  0.0000</td>\n",
       "    </tr>\n",
       "    <tr>\n",
       "      <th>2011-01-20 03:00:00</th>\n",
       "      <td> 1</td>\n",
       "      <td> 0</td>\n",
       "      <td> 1</td>\n",
       "      <td> 1</td>\n",
       "      <td> 10.66</td>\n",
       "      <td> 12.880</td>\n",
       "      <td> 56</td>\n",
       "      <td> 11.0014</td>\n",
       "    </tr>\n",
       "    <tr>\n",
       "      <th>2011-01-20 04:00:00</th>\n",
       "      <td> 1</td>\n",
       "      <td> 0</td>\n",
       "      <td> 1</td>\n",
       "      <td> 1</td>\n",
       "      <td> 10.66</td>\n",
       "      <td> 12.880</td>\n",
       "      <td> 56</td>\n",
       "      <td> 11.0014</td>\n",
       "    </tr>\n",
       "  </tbody>\n",
       "</table>\n",
       "</div>"
      ],
      "text/plain": [
       "                     season  holiday  workingday  weather   temp   atemp  \\\n",
       "datetime                                                                   \n",
       "2011-01-20 00:00:00       1        0           1        1  10.66  11.365   \n",
       "2011-01-20 01:00:00       1        0           1        1  10.66  13.635   \n",
       "2011-01-20 02:00:00       1        0           1        1  10.66  13.635   \n",
       "2011-01-20 03:00:00       1        0           1        1  10.66  12.880   \n",
       "2011-01-20 04:00:00       1        0           1        1  10.66  12.880   \n",
       "\n",
       "                     humidity  windspeed  \n",
       "datetime                                  \n",
       "2011-01-20 00:00:00        56    26.0027  \n",
       "2011-01-20 01:00:00        56     0.0000  \n",
       "2011-01-20 02:00:00        56     0.0000  \n",
       "2011-01-20 03:00:00        56    11.0014  \n",
       "2011-01-20 04:00:00        56    11.0014  "
      ]
     },
     "execution_count": 22,
     "metadata": {},
     "output_type": "execute_result"
    }
   ],
   "source": [
    "test.head()"
   ]
  },
  {
   "cell_type": "code",
   "execution_count": 6,
   "metadata": {
    "collapsed": false
   },
   "outputs": [
    {
     "name": "stdout",
     "output_type": "stream",
     "text": [
      "Train: 10886 records\n",
      "Test: 6493 records\n"
     ]
    }
   ],
   "source": [
    "print \"Train: %s records\\nTest: %s records\" %(len(train), len(test))"
   ]
  },
  {
   "cell_type": "markdown",
   "metadata": {},
   "source": [
    "### Data interpretation:\n",
    "\n",
    "* datetime - hourly date + timestamp  \n",
    "* season -  1 = spring, 2 = summer, 3 = fall, 4 = winter \n",
    "* holiday - whether the day is considered a holiday\n",
    "* workingday - whether the day is neither a weekend nor holiday\n",
    "* weather - 1: Clear, Few clouds, Partly cloudy, Partly cloudy \n",
    "    2: Mist + Cloudy, Mist + Broken clouds, Mist + Few clouds, Mist \n",
    "    3: Light Snow, Light Rain + Thunderstorm + Scattered clouds, Light Rain + Scattered clouds \n",
    "    4: Heavy Rain + Ice Pallets + Thunderstorm + Mist, Snow + Fog \n",
    "* temp - temperature in Celsius\n",
    "* atemp - \"feels like\" temperature in Celsius\n",
    "* humidity - relative humidity\n",
    "* windspeed - wind speed\n",
    "* casual - number of non-registered user rentals initiated\n",
    "* registered - number of registered user rentals initiated\n",
    "* count - number of total rentals"
   ]
  },
  {
   "cell_type": "markdown",
   "metadata": {
    "collapsed": false
   },
   "source": [
    "## Exploratory analysis"
   ]
  },
  {
   "cell_type": "code",
   "execution_count": 10,
   "metadata": {
    "collapsed": false
   },
   "outputs": [
    {
     "name": "stdout",
     "output_type": "stream",
     "text": [
      "season: avg - 2.50661399963, min - 1, max - 4\n",
      "holiday: avg - 0.0285688039684, min - 0, max - 1\n",
      "workingday: avg - 0.680874517729, min - 0, max - 1\n",
      "weather: avg - 1.41842733787, min - 1, max - 4\n",
      "temp: avg - 20.23085982, min - 0.82, max - 41.0\n",
      "atemp: avg - 23.6550840529, min - 0.76, max - 45.455\n",
      "humidity: avg - 61.886459673, min - 0, max - 100\n",
      "windspeed: avg - 12.7993954069, min - 0.0, max - 56.9969\n",
      "casual: avg - 36.0219548043, min - 0, max - 367\n",
      "registered: avg - 155.552177108, min - 0, max - 886\n",
      "count: avg - 191.574131913, min - 1, max - 977\n"
     ]
    }
   ],
   "source": [
    "for i in train.columns:\n",
    "    print \"%s: avg - %s, min - %s, max - %s\" % (i,np.mean(train[i]), np.min(train[i]), np.max(train[i]))"
   ]
  },
  {
   "cell_type": "code",
   "execution_count": 11,
   "metadata": {
    "collapsed": false
   },
   "outputs": [
    {
     "data": {
      "text/html": [
       "<div style=\"max-height:1000px;max-width:1500px;overflow:auto;\">\n",
       "<table border=\"1\" class=\"dataframe\">\n",
       "  <thead>\n",
       "    <tr style=\"text-align: right;\">\n",
       "      <th></th>\n",
       "      <th>season</th>\n",
       "      <th>holiday</th>\n",
       "      <th>workingday</th>\n",
       "      <th>weather</th>\n",
       "      <th>temp</th>\n",
       "      <th>atemp</th>\n",
       "      <th>humidity</th>\n",
       "      <th>windspeed</th>\n",
       "      <th>casual</th>\n",
       "      <th>registered</th>\n",
       "      <th>count</th>\n",
       "    </tr>\n",
       "  </thead>\n",
       "  <tbody>\n",
       "    <tr>\n",
       "      <th>count</th>\n",
       "      <td> 10886.000000</td>\n",
       "      <td> 10886.000000</td>\n",
       "      <td> 10886.000000</td>\n",
       "      <td> 10886.000000</td>\n",
       "      <td> 10886.00000</td>\n",
       "      <td> 10886.000000</td>\n",
       "      <td> 10886.000000</td>\n",
       "      <td> 10886.000000</td>\n",
       "      <td> 10886.000000</td>\n",
       "      <td> 10886.000000</td>\n",
       "      <td> 10886.000000</td>\n",
       "    </tr>\n",
       "    <tr>\n",
       "      <th>mean</th>\n",
       "      <td>     2.506614</td>\n",
       "      <td>     0.028569</td>\n",
       "      <td>     0.680875</td>\n",
       "      <td>     1.418427</td>\n",
       "      <td>    20.23086</td>\n",
       "      <td>    23.655084</td>\n",
       "      <td>    61.886460</td>\n",
       "      <td>    12.799395</td>\n",
       "      <td>    36.021955</td>\n",
       "      <td>   155.552177</td>\n",
       "      <td>   191.574132</td>\n",
       "    </tr>\n",
       "    <tr>\n",
       "      <th>std</th>\n",
       "      <td>     1.116174</td>\n",
       "      <td>     0.166599</td>\n",
       "      <td>     0.466159</td>\n",
       "      <td>     0.633839</td>\n",
       "      <td>     7.79159</td>\n",
       "      <td>     8.474601</td>\n",
       "      <td>    19.245033</td>\n",
       "      <td>     8.164537</td>\n",
       "      <td>    49.960477</td>\n",
       "      <td>   151.039033</td>\n",
       "      <td>   181.144454</td>\n",
       "    </tr>\n",
       "    <tr>\n",
       "      <th>min</th>\n",
       "      <td>     1.000000</td>\n",
       "      <td>     0.000000</td>\n",
       "      <td>     0.000000</td>\n",
       "      <td>     1.000000</td>\n",
       "      <td>     0.82000</td>\n",
       "      <td>     0.760000</td>\n",
       "      <td>     0.000000</td>\n",
       "      <td>     0.000000</td>\n",
       "      <td>     0.000000</td>\n",
       "      <td>     0.000000</td>\n",
       "      <td>     1.000000</td>\n",
       "    </tr>\n",
       "    <tr>\n",
       "      <th>25%</th>\n",
       "      <td>     2.000000</td>\n",
       "      <td>     0.000000</td>\n",
       "      <td>     0.000000</td>\n",
       "      <td>     1.000000</td>\n",
       "      <td>    13.94000</td>\n",
       "      <td>    16.665000</td>\n",
       "      <td>    47.000000</td>\n",
       "      <td>     7.001500</td>\n",
       "      <td>     4.000000</td>\n",
       "      <td>    36.000000</td>\n",
       "      <td>    42.000000</td>\n",
       "    </tr>\n",
       "    <tr>\n",
       "      <th>50%</th>\n",
       "      <td>     3.000000</td>\n",
       "      <td>     0.000000</td>\n",
       "      <td>     1.000000</td>\n",
       "      <td>     1.000000</td>\n",
       "      <td>    20.50000</td>\n",
       "      <td>    24.240000</td>\n",
       "      <td>    62.000000</td>\n",
       "      <td>    12.998000</td>\n",
       "      <td>    17.000000</td>\n",
       "      <td>   118.000000</td>\n",
       "      <td>   145.000000</td>\n",
       "    </tr>\n",
       "    <tr>\n",
       "      <th>75%</th>\n",
       "      <td>     4.000000</td>\n",
       "      <td>     0.000000</td>\n",
       "      <td>     1.000000</td>\n",
       "      <td>     2.000000</td>\n",
       "      <td>    26.24000</td>\n",
       "      <td>    31.060000</td>\n",
       "      <td>    77.000000</td>\n",
       "      <td>    16.997900</td>\n",
       "      <td>    49.000000</td>\n",
       "      <td>   222.000000</td>\n",
       "      <td>   284.000000</td>\n",
       "    </tr>\n",
       "    <tr>\n",
       "      <th>max</th>\n",
       "      <td>     4.000000</td>\n",
       "      <td>     1.000000</td>\n",
       "      <td>     1.000000</td>\n",
       "      <td>     4.000000</td>\n",
       "      <td>    41.00000</td>\n",
       "      <td>    45.455000</td>\n",
       "      <td>   100.000000</td>\n",
       "      <td>    56.996900</td>\n",
       "      <td>   367.000000</td>\n",
       "      <td>   886.000000</td>\n",
       "      <td>   977.000000</td>\n",
       "    </tr>\n",
       "  </tbody>\n",
       "</table>\n",
       "</div>"
      ],
      "text/plain": [
       "             season       holiday    workingday       weather         temp  \\\n",
       "count  10886.000000  10886.000000  10886.000000  10886.000000  10886.00000   \n",
       "mean       2.506614      0.028569      0.680875      1.418427     20.23086   \n",
       "std        1.116174      0.166599      0.466159      0.633839      7.79159   \n",
       "min        1.000000      0.000000      0.000000      1.000000      0.82000   \n",
       "25%        2.000000      0.000000      0.000000      1.000000     13.94000   \n",
       "50%        3.000000      0.000000      1.000000      1.000000     20.50000   \n",
       "75%        4.000000      0.000000      1.000000      2.000000     26.24000   \n",
       "max        4.000000      1.000000      1.000000      4.000000     41.00000   \n",
       "\n",
       "              atemp      humidity     windspeed        casual    registered  \\\n",
       "count  10886.000000  10886.000000  10886.000000  10886.000000  10886.000000   \n",
       "mean      23.655084     61.886460     12.799395     36.021955    155.552177   \n",
       "std        8.474601     19.245033      8.164537     49.960477    151.039033   \n",
       "min        0.760000      0.000000      0.000000      0.000000      0.000000   \n",
       "25%       16.665000     47.000000      7.001500      4.000000     36.000000   \n",
       "50%       24.240000     62.000000     12.998000     17.000000    118.000000   \n",
       "75%       31.060000     77.000000     16.997900     49.000000    222.000000   \n",
       "max       45.455000    100.000000     56.996900    367.000000    886.000000   \n",
       "\n",
       "              count  \n",
       "count  10886.000000  \n",
       "mean     191.574132  \n",
       "std      181.144454  \n",
       "min        1.000000  \n",
       "25%       42.000000  \n",
       "50%      145.000000  \n",
       "75%      284.000000  \n",
       "max      977.000000  "
      ]
     },
     "execution_count": 11,
     "metadata": {},
     "output_type": "execute_result"
    }
   ],
   "source": [
    "train.describe()"
   ]
  },
  {
   "cell_type": "code",
   "execution_count": 7,
   "metadata": {
    "collapsed": false
   },
   "outputs": [
    {
     "data": {
      "image/png": "[encoded data removed]",
      "text/plain": [
       "<matplotlib.figure.Figure at 0x1094aa790>"
      ]
     },
     "metadata": {},
     "output_type": "display_data"
    }
   ],
   "source": [
    "fig = plt.figure(figsize=[10,10])\n",
    "\n",
    "ax1 = plt.subplot(331)\n",
    "res = stats.probplot(train['season'], dist=\"norm\", plot=plt)\n",
    "\n",
    "ax2 = plt.subplot(332)\n",
    "res = stats.probplot(train['holiday'], dist=\"norm\", plot=plt)\n",
    "\n",
    "ax3 = plt.subplot(333)\n",
    "res = stats.probplot(train['workingday'], dist=\"norm\", plot=plt)\n",
    "\n",
    "ax4 = plt.subplot(334)\n",
    "res = stats.probplot(train['weather'], dist=\"norm\", plot=plt)\n",
    "\n",
    "ax5 = plt.subplot(335)\n",
    "res = stats.probplot(train['temp'], dist=\"norm\", plot=plt)\n",
    "\n",
    "ax6 = plt.subplot(336)\n",
    "res = stats.probplot(train['atemp'], dist=\"norm\", plot=plt)\n",
    "\n",
    "ax7 = plt.subplot(337)\n",
    "res = stats.probplot(train['humidity'], dist=\"norm\", plot=plt)\n",
    "\n",
    "ax8 = plt.subplot(338)\n",
    "res = stats.probplot(train['windspeed'], dist=\"norm\", plot=plt)\n",
    "\n",
    "\n",
    "\n",
    "plt.show()"
   ]
  },
  {
   "cell_type": "code",
   "execution_count": 8,
   "metadata": {
    "collapsed": false
   },
   "outputs": [
    {
     "data": {
      "image/png": "[encoded data removed]",
      "text/plain": [
       "<matplotlib.figure.Figure at 0x10a20c0d0>"
      ]
     },
     "metadata": {},
     "output_type": "display_data"
    }
   ],
   "source": [
    "fig = plt.figure(figsize=[10,10])\n",
    "\n",
    "ax1 = plt.subplot(331)\n",
    "res = plt.scatter(train['season'],train['count'])\n",
    "\n",
    "ax2 = plt.subplot(332)\n",
    "res = plt.scatter(train['holiday'],train['count'])\n",
    "\n",
    "ax3 = plt.subplot(333)\n",
    "res = plt.scatter(train['workingday'],train['count'])\n",
    "\n",
    "ax4 = plt.subplot(334)\n",
    "res = plt.scatter(train['weather'],train['count'])\n",
    "\n",
    "ax5 = plt.subplot(335)\n",
    "res = plt.scatter(train['temp'],train['count'])\n",
    "\n",
    "ax6 = plt.subplot(336)\n",
    "res = plt.scatter(train['atemp'],train['count'])\n",
    "\n",
    "ax7 = plt.subplot(337)\n",
    "res = plt.scatter(train['humidity'],train['count'])\n",
    "\n",
    "ax8 = plt.subplot(338)\n",
    "res = plt.scatter(train['windspeed'],train['count'])\n",
    "\n",
    "plt.show()"
   ]
  },
  {
   "cell_type": "code",
   "execution_count": 9,
   "metadata": {
    "collapsed": false
   },
   "outputs": [
    {
     "data": {
      "image/png": "[encoded data removed]",
      "text/plain": [
       "<matplotlib.figure.Figure at 0x108259910>"
      ]
     },
     "metadata": {},
     "output_type": "display_data"
    }
   ],
   "source": [
    "corrMat = pd.DataFrame(train.corr())\n",
    "plt.pcolor(corrMat)\n",
    "plt.show()"
   ]
  },
  {
   "cell_type": "markdown",
   "metadata": {
    "collapsed": true
   },
   "source": [
    "## Tree?"
   ]
  },
  {
   "cell_type": "code",
   "execution_count": 23,
   "metadata": {
    "collapsed": true
   },
   "outputs": [],
   "source": [
    "## NB: GBM classifier needs to predict a class. Adding var to train for count > threshold (0 or 1)\n",
    "## as binary class.\n",
    "\n",
    "## Could look into GBM regressor. Loss will be higher."
   ]
  },
  {
   "cell_type": "code",
   "execution_count": 33,
   "metadata": {
    "collapsed": false
   },
   "outputs": [],
   "source": [
    "train['count300'] = np.where(train['count'] > 300, 1, 0)\n",
    "train['count500'] = np.where(train['count'] > 500, 1, 0)"
   ]
  },
  {
   "cell_type": "code",
   "execution_count": 54,
   "metadata": {
    "collapsed": true
   },
   "outputs": [],
   "source": [
    "tree300 = GradientBoostingClassifier(\n",
    "    max_depth=4,\n",
    "    min_samples_split=20,\n",
    "    verbose=1,\n",
    "    random_state=12345,\n",
    "    n_estimators=10000\n",
    ")"
   ]
  },
  {
   "cell_type": "code",
   "execution_count": 55,
   "metadata": {
    "collapsed": false
   },
   "outputs": [
    {
     "name": "stdout",
     "output_type": "stream",
     "text": [
      "      Iter       Train Loss   Remaining Time \n",
      "         1           1.0330            2.55m\n",
      "         2           1.0021            2.23m\n",
      "         3           0.9776            2.11m\n",
      "         4           0.9575            1.93m\n",
      "         5           0.9408            1.80m\n",
      "         6           0.9267            1.81m\n",
      "         7           0.9142            1.82m\n",
      "         8           0.9035            1.78m\n",
      "         9           0.8941            1.73m\n",
      "        10           0.8848            1.78m\n",
      "        20           0.8369            1.56m\n",
      "        30           0.8179            1.48m\n",
      "        40           0.8064            1.45m\n",
      "        50           0.7983            1.40m\n",
      "        60           0.7933            1.35m\n",
      "        70           0.7886            1.31m\n",
      "        80           0.7847            1.30m\n",
      "        90           0.7807            1.29m\n",
      "       100           0.7768            1.27m\n",
      "       200           0.7361            1.39m\n",
      "       300           0.7082            1.42m\n",
      "       400           0.6876            1.33m\n",
      "       500           0.6672            1.25m\n",
      "       600           0.6480            1.20m\n",
      "       700           0.6323            1.16m\n",
      "       800           0.6203            1.12m\n",
      "       900           0.6047            1.10m\n",
      "      1000           0.5933            1.08m\n",
      "      2000           0.4992           56.63s\n",
      "      3000           0.4412           49.14s\n",
      "      4000           0.4000           41.59s\n",
      "      5000           0.3688           34.27s\n",
      "      6000           0.3424           27.29s\n",
      "      7000           0.3198           20.48s\n",
      "      8000           0.3015           13.60s\n",
      "      9000           0.2836            6.80s\n",
      "     10000           0.2704            0.00s\n"
     ]
    },
    {
     "data": {
      "text/plain": [
       "GradientBoostingClassifier(init=None, learning_rate=0.1, loss='deviance',\n",
       "              max_depth=4, max_features=None, max_leaf_nodes=None,\n",
       "              min_samples_leaf=1, min_samples_split=20, n_estimators=10000,\n",
       "              random_state=12345, subsample=1.0, verbose=1,\n",
       "              warm_start=False)"
      ]
     },
     "execution_count": 55,
     "metadata": {},
     "output_type": "execute_result"
    }
   ],
   "source": [
    "tree300.fit(\n",
    "    train[['season','holiday','workingday','weather','temp','atemp','humidity','windspeed']],\n",
    "    train['count300']\n",
    ")"
   ]
  },
  {
   "cell_type": "code",
   "execution_count": 56,
   "metadata": {
    "collapsed": true
   },
   "outputs": [],
   "source": [
    "## NB: still converging after 10,000 iterations."
   ]
  },
  {
   "cell_type": "markdown",
   "metadata": {},
   "source": [
    "#### Prediction via test set"
   ]
  },
  {
   "cell_type": "code",
   "execution_count": 57,
   "metadata": {
    "collapsed": false
   },
   "outputs": [],
   "source": [
    "pred1 = tree300.predict(test[['season','holiday','workingday','weather','temp','atemp','humidity','windspeed']])"
   ]
  },
  {
   "cell_type": "code",
   "execution_count": 58,
   "metadata": {
    "collapsed": false
   },
   "outputs": [
    {
     "data": {
      "text/plain": [
       "6493"
      ]
     },
     "execution_count": 58,
     "metadata": {},
     "output_type": "execute_result"
    }
   ],
   "source": [
    "len(pred1)"
   ]
  },
  {
   "cell_type": "code",
   "execution_count": 59,
   "metadata": {
    "collapsed": true
   },
   "outputs": [],
   "source": [
    "test['pred_count_300'] = pred1"
   ]
  },
  {
   "cell_type": "code",
   "execution_count": 60,
   "metadata": {
    "collapsed": false
   },
   "outputs": [
    {
     "data": {
      "text/html": [
       "<div style=\"max-height:1000px;max-width:1500px;overflow:auto;\">\n",
       "<table border=\"1\" class=\"dataframe\">\n",
       "  <thead>\n",
       "    <tr style=\"text-align: right;\">\n",
       "      <th></th>\n",
       "      <th>season</th>\n",
       "      <th>holiday</th>\n",
       "      <th>workingday</th>\n",
       "      <th>weather</th>\n",
       "      <th>temp</th>\n",
       "      <th>atemp</th>\n",
       "      <th>humidity</th>\n",
       "      <th>windspeed</th>\n",
       "      <th>pred_count</th>\n",
       "      <th>pred_count_300</th>\n",
       "      <th>pred_count_500</th>\n",
       "    </tr>\n",
       "    <tr>\n",
       "      <th>datetime</th>\n",
       "      <th></th>\n",
       "      <th></th>\n",
       "      <th></th>\n",
       "      <th></th>\n",
       "      <th></th>\n",
       "      <th></th>\n",
       "      <th></th>\n",
       "      <th></th>\n",
       "      <th></th>\n",
       "      <th></th>\n",
       "      <th></th>\n",
       "    </tr>\n",
       "  </thead>\n",
       "  <tbody>\n",
       "    <tr>\n",
       "      <th>2011-01-20 00:00:00</th>\n",
       "      <td> 1</td>\n",
       "      <td> 0</td>\n",
       "      <td> 1</td>\n",
       "      <td> 1</td>\n",
       "      <td> 10.66</td>\n",
       "      <td> 11.365</td>\n",
       "      <td> 56</td>\n",
       "      <td> 26.0027</td>\n",
       "      <td> 0.055995</td>\n",
       "      <td> 0</td>\n",
       "      <td> 0.055995</td>\n",
       "    </tr>\n",
       "    <tr>\n",
       "      <th>2011-01-20 01:00:00</th>\n",
       "      <td> 1</td>\n",
       "      <td> 0</td>\n",
       "      <td> 1</td>\n",
       "      <td> 1</td>\n",
       "      <td> 10.66</td>\n",
       "      <td> 13.635</td>\n",
       "      <td> 56</td>\n",
       "      <td>  0.0000</td>\n",
       "      <td>-0.025755</td>\n",
       "      <td> 0</td>\n",
       "      <td>-0.025755</td>\n",
       "    </tr>\n",
       "    <tr>\n",
       "      <th>2011-01-20 02:00:00</th>\n",
       "      <td> 1</td>\n",
       "      <td> 0</td>\n",
       "      <td> 1</td>\n",
       "      <td> 1</td>\n",
       "      <td> 10.66</td>\n",
       "      <td> 13.635</td>\n",
       "      <td> 56</td>\n",
       "      <td>  0.0000</td>\n",
       "      <td>-0.025755</td>\n",
       "      <td> 0</td>\n",
       "      <td>-0.025755</td>\n",
       "    </tr>\n",
       "    <tr>\n",
       "      <th>2011-01-20 03:00:00</th>\n",
       "      <td> 1</td>\n",
       "      <td> 0</td>\n",
       "      <td> 1</td>\n",
       "      <td> 1</td>\n",
       "      <td> 10.66</td>\n",
       "      <td> 12.880</td>\n",
       "      <td> 56</td>\n",
       "      <td> 11.0014</td>\n",
       "      <td>-0.092931</td>\n",
       "      <td> 0</td>\n",
       "      <td>-0.092931</td>\n",
       "    </tr>\n",
       "    <tr>\n",
       "      <th>2011-01-20 04:00:00</th>\n",
       "      <td> 1</td>\n",
       "      <td> 0</td>\n",
       "      <td> 1</td>\n",
       "      <td> 1</td>\n",
       "      <td> 10.66</td>\n",
       "      <td> 12.880</td>\n",
       "      <td> 56</td>\n",
       "      <td> 11.0014</td>\n",
       "      <td>-0.092931</td>\n",
       "      <td> 0</td>\n",
       "      <td>-0.092931</td>\n",
       "    </tr>\n",
       "  </tbody>\n",
       "</table>\n",
       "</div>"
      ],
      "text/plain": [
       "                     season  holiday  workingday  weather   temp   atemp  \\\n",
       "datetime                                                                   \n",
       "2011-01-20 00:00:00       1        0           1        1  10.66  11.365   \n",
       "2011-01-20 01:00:00       1        0           1        1  10.66  13.635   \n",
       "2011-01-20 02:00:00       1        0           1        1  10.66  13.635   \n",
       "2011-01-20 03:00:00       1        0           1        1  10.66  12.880   \n",
       "2011-01-20 04:00:00       1        0           1        1  10.66  12.880   \n",
       "\n",
       "                     humidity  windspeed  pred_count  pred_count_300  \\\n",
       "datetime                                                               \n",
       "2011-01-20 00:00:00        56    26.0027    0.055995               0   \n",
       "2011-01-20 01:00:00        56     0.0000   -0.025755               0   \n",
       "2011-01-20 02:00:00        56     0.0000   -0.025755               0   \n",
       "2011-01-20 03:00:00        56    11.0014   -0.092931               0   \n",
       "2011-01-20 04:00:00        56    11.0014   -0.092931               0   \n",
       "\n",
       "                     pred_count_500  \n",
       "datetime                             \n",
       "2011-01-20 00:00:00        0.055995  \n",
       "2011-01-20 01:00:00       -0.025755  \n",
       "2011-01-20 02:00:00       -0.025755  \n",
       "2011-01-20 03:00:00       -0.092931  \n",
       "2011-01-20 04:00:00       -0.092931  "
      ]
     },
     "execution_count": 60,
     "metadata": {},
     "output_type": "execute_result"
    }
   ],
   "source": [
    "test.head()"
   ]
  },
  {
   "cell_type": "code",
   "execution_count": 61,
   "metadata": {
    "collapsed": false
   },
   "outputs": [
    {
     "data": {
      "text/plain": [
       "(array([ 5259.,     0.,     0.,     0.,     0.,     0.,     0.,     0.,\n",
       "            0.,  1234.]),\n",
       " array([ 0. ,  0.1,  0.2,  0.3,  0.4,  0.5,  0.6,  0.7,  0.8,  0.9,  1. ]),\n",
       " <a list of 10 Patch objects>)"
      ]
     },
     "execution_count": 61,
     "metadata": {},
     "output_type": "execute_result"
    },
    {
     "data": {
      "image/png": "[encoded data removed]",
      "text/plain": [
       "<matplotlib.figure.Figure at 0x110ba9510>"
      ]
     },
     "metadata": {},
     "output_type": "display_data"
    }
   ],
   "source": [
    "plt.hist(test['pred_count_300'],color='g')"
   ]
  },
  {
   "cell_type": "markdown",
   "metadata": {},
   "source": [
    "### Repeat for > 500"
   ]
  },
  {
   "cell_type": "code",
   "execution_count": 73,
   "metadata": {
    "collapsed": true
   },
   "outputs": [],
   "source": [
    "tree500 = GradientBoostingClassifier(\n",
    "    max_depth=4,\n",
    "    min_samples_split=20,\n",
    "    verbose=1,\n",
    "    random_state=12345,\n",
    "    n_estimators=10000\n",
    ")"
   ]
  },
  {
   "cell_type": "code",
   "execution_count": 74,
   "metadata": {
    "collapsed": false
   },
   "outputs": [
    {
     "name": "stdout",
     "output_type": "stream",
     "text": [
      "      Iter       Train Loss   Remaining Time \n",
      "         1           0.5021            2.53m\n",
      "         2           0.4893            2.28m\n",
      "         3           0.4796            2.01m\n",
      "         4           0.4720            1.83m\n",
      "         5           0.4657            1.90m\n",
      "         6           0.4597            1.86m\n",
      "         7           0.4549            1.89m\n",
      "         8           0.4509            1.83m\n",
      "         9           0.4468            1.76m\n",
      "        10           0.4436            1.73m\n",
      "        20           0.4244            1.53m\n",
      "        30           0.4162            1.44m\n",
      "        40           0.4118            1.36m\n",
      "        50           0.4069            1.32m\n",
      "        60           0.4033            1.32m\n",
      "        70           0.4001            1.31m\n",
      "        80           0.3963            1.30m\n",
      "        90           0.3930            1.28m\n",
      "       100           0.3894            1.28m\n",
      "       200           0.3615            1.16m\n",
      "       300           0.3403            1.24m\n",
      "       400           0.3240            1.22m\n",
      "       500           0.3078            1.18m\n",
      "       600           0.2926            1.16m\n",
      "       700           0.2795            1.14m\n",
      "       800           0.2675            1.12m\n",
      "       900           0.2575            1.10m\n",
      "      1000           0.2476            1.10m\n",
      "      2000           0.1847           58.64s\n",
      "      3000           0.1482           50.97s\n",
      "      4000           0.1240           43.57s\n",
      "      5000           0.1083           36.21s\n",
      "      6000           0.0969           29.04s\n",
      "      7000           0.0885           21.73s\n",
      "      8000           0.0820           14.44s\n",
      "      9000           0.0773            7.20s\n",
      "     10000           0.0739            0.00s\n"
     ]
    },
    {
     "data": {
      "text/plain": [
       "GradientBoostingClassifier(init=None, learning_rate=0.1, loss='deviance',\n",
       "              max_depth=4, max_features=None, max_leaf_nodes=None,\n",
       "              min_samples_leaf=1, min_samples_split=20, n_estimators=10000,\n",
       "              random_state=12345, subsample=1.0, verbose=1,\n",
       "              warm_start=False)"
      ]
     },
     "execution_count": 74,
     "metadata": {},
     "output_type": "execute_result"
    }
   ],
   "source": [
    "tree500.fit(\n",
    "    train[['season','holiday','workingday','weather','temp','atemp','humidity','windspeed']],\n",
    "    train['count500']\n",
    ")"
   ]
  },
  {
   "cell_type": "code",
   "execution_count": 75,
   "metadata": {
    "collapsed": true
   },
   "outputs": [],
   "source": [
    "pred500 = tree500.predict(test[['season','holiday','workingday','weather','temp','atemp','humidity','windspeed']])"
   ]
  },
  {
   "cell_type": "code",
   "execution_count": 76,
   "metadata": {
    "collapsed": true
   },
   "outputs": [],
   "source": [
    "test['pred_count_500'] = pred500"
   ]
  },
  {
   "cell_type": "code",
   "execution_count": 77,
   "metadata": {
    "collapsed": false
   },
   "outputs": [
    {
     "data": {
      "text/html": [
       "<div style=\"max-height:1000px;max-width:1500px;overflow:auto;\">\n",
       "<table border=\"1\" class=\"dataframe\">\n",
       "  <thead>\n",
       "    <tr style=\"text-align: right;\">\n",
       "      <th></th>\n",
       "      <th>season</th>\n",
       "      <th>holiday</th>\n",
       "      <th>workingday</th>\n",
       "      <th>weather</th>\n",
       "      <th>temp</th>\n",
       "      <th>atemp</th>\n",
       "      <th>humidity</th>\n",
       "      <th>windspeed</th>\n",
       "      <th>pred_count</th>\n",
       "      <th>pred_count_300</th>\n",
       "      <th>pred_count_500</th>\n",
       "    </tr>\n",
       "    <tr>\n",
       "      <th>datetime</th>\n",
       "      <th></th>\n",
       "      <th></th>\n",
       "      <th></th>\n",
       "      <th></th>\n",
       "      <th></th>\n",
       "      <th></th>\n",
       "      <th></th>\n",
       "      <th></th>\n",
       "      <th></th>\n",
       "      <th></th>\n",
       "      <th></th>\n",
       "    </tr>\n",
       "  </thead>\n",
       "  <tbody>\n",
       "    <tr>\n",
       "      <th>2011-01-20 00:00:00</th>\n",
       "      <td> 1</td>\n",
       "      <td> 0</td>\n",
       "      <td> 1</td>\n",
       "      <td> 1</td>\n",
       "      <td> 10.66</td>\n",
       "      <td> 11.365</td>\n",
       "      <td> 56</td>\n",
       "      <td> 26.0027</td>\n",
       "      <td> 0.055995</td>\n",
       "      <td> 0</td>\n",
       "      <td> 0</td>\n",
       "    </tr>\n",
       "    <tr>\n",
       "      <th>2011-01-20 01:00:00</th>\n",
       "      <td> 1</td>\n",
       "      <td> 0</td>\n",
       "      <td> 1</td>\n",
       "      <td> 1</td>\n",
       "      <td> 10.66</td>\n",
       "      <td> 13.635</td>\n",
       "      <td> 56</td>\n",
       "      <td>  0.0000</td>\n",
       "      <td>-0.025755</td>\n",
       "      <td> 0</td>\n",
       "      <td> 0</td>\n",
       "    </tr>\n",
       "    <tr>\n",
       "      <th>2011-01-20 02:00:00</th>\n",
       "      <td> 1</td>\n",
       "      <td> 0</td>\n",
       "      <td> 1</td>\n",
       "      <td> 1</td>\n",
       "      <td> 10.66</td>\n",
       "      <td> 13.635</td>\n",
       "      <td> 56</td>\n",
       "      <td>  0.0000</td>\n",
       "      <td>-0.025755</td>\n",
       "      <td> 0</td>\n",
       "      <td> 0</td>\n",
       "    </tr>\n",
       "    <tr>\n",
       "      <th>2011-01-20 03:00:00</th>\n",
       "      <td> 1</td>\n",
       "      <td> 0</td>\n",
       "      <td> 1</td>\n",
       "      <td> 1</td>\n",
       "      <td> 10.66</td>\n",
       "      <td> 12.880</td>\n",
       "      <td> 56</td>\n",
       "      <td> 11.0014</td>\n",
       "      <td>-0.092931</td>\n",
       "      <td> 0</td>\n",
       "      <td> 0</td>\n",
       "    </tr>\n",
       "    <tr>\n",
       "      <th>2011-01-20 04:00:00</th>\n",
       "      <td> 1</td>\n",
       "      <td> 0</td>\n",
       "      <td> 1</td>\n",
       "      <td> 1</td>\n",
       "      <td> 10.66</td>\n",
       "      <td> 12.880</td>\n",
       "      <td> 56</td>\n",
       "      <td> 11.0014</td>\n",
       "      <td>-0.092931</td>\n",
       "      <td> 0</td>\n",
       "      <td> 0</td>\n",
       "    </tr>\n",
       "  </tbody>\n",
       "</table>\n",
       "</div>"
      ],
      "text/plain": [
       "                     season  holiday  workingday  weather   temp   atemp  \\\n",
       "datetime                                                                   \n",
       "2011-01-20 00:00:00       1        0           1        1  10.66  11.365   \n",
       "2011-01-20 01:00:00       1        0           1        1  10.66  13.635   \n",
       "2011-01-20 02:00:00       1        0           1        1  10.66  13.635   \n",
       "2011-01-20 03:00:00       1        0           1        1  10.66  12.880   \n",
       "2011-01-20 04:00:00       1        0           1        1  10.66  12.880   \n",
       "\n",
       "                     humidity  windspeed  pred_count  pred_count_300  \\\n",
       "datetime                                                               \n",
       "2011-01-20 00:00:00        56    26.0027    0.055995               0   \n",
       "2011-01-20 01:00:00        56     0.0000   -0.025755               0   \n",
       "2011-01-20 02:00:00        56     0.0000   -0.025755               0   \n",
       "2011-01-20 03:00:00        56    11.0014   -0.092931               0   \n",
       "2011-01-20 04:00:00        56    11.0014   -0.092931               0   \n",
       "\n",
       "                     pred_count_500  \n",
       "datetime                             \n",
       "2011-01-20 00:00:00               0  \n",
       "2011-01-20 01:00:00               0  \n",
       "2011-01-20 02:00:00               0  \n",
       "2011-01-20 03:00:00               0  \n",
       "2011-01-20 04:00:00               0  "
      ]
     },
     "execution_count": 77,
     "metadata": {},
     "output_type": "execute_result"
    }
   ],
   "source": [
    "test.head()"
   ]
  },
  {
   "cell_type": "code",
   "execution_count": 78,
   "metadata": {
    "collapsed": false
   },
   "outputs": [
    {
     "data": {
      "text/plain": [
       "(array([ 6194.,     0.,     0.,     0.,     0.,     0.,     0.,     0.,\n",
       "            0.,   299.]),\n",
       " array([ 0. ,  0.1,  0.2,  0.3,  0.4,  0.5,  0.6,  0.7,  0.8,  0.9,  1. ]),\n",
       " <a list of 10 Patch objects>)"
      ]
     },
     "execution_count": 78,
     "metadata": {},
     "output_type": "execute_result"
    },
    {
     "data": {
      "image/png": "[encoded data removed]",
      "text/plain": [
       "<matplotlib.figure.Figure at 0x119abbfd0>"
      ]
     },
     "metadata": {},
     "output_type": "display_data"
    }
   ],
   "source": [
    "plt.hist(test['pred_count_500'],color='r')"
   ]
  },
  {
   "cell_type": "code",
   "execution_count": 89,
   "metadata": {
    "collapsed": false
   },
   "outputs": [
    {
     "data": {
      "text/html": [
       "<div style=\"max-height:1000px;max-width:1500px;overflow:auto;\">\n",
       "<table border=\"1\" class=\"dataframe\">\n",
       "  <thead>\n",
       "    <tr style=\"text-align: right;\">\n",
       "      <th></th>\n",
       "      <th>count300</th>\n",
       "      <th>count500</th>\n",
       "    </tr>\n",
       "  </thead>\n",
       "  <tbody>\n",
       "    <tr>\n",
       "      <th>count</th>\n",
       "      <td> 10886.000000</td>\n",
       "      <td> 10886.000000</td>\n",
       "    </tr>\n",
       "    <tr>\n",
       "      <th>mean</th>\n",
       "      <td>     0.227999</td>\n",
       "      <td>     0.073213</td>\n",
       "    </tr>\n",
       "    <tr>\n",
       "      <th>std</th>\n",
       "      <td>     0.419561</td>\n",
       "      <td>     0.260498</td>\n",
       "    </tr>\n",
       "    <tr>\n",
       "      <th>min</th>\n",
       "      <td>     0.000000</td>\n",
       "      <td>     0.000000</td>\n",
       "    </tr>\n",
       "    <tr>\n",
       "      <th>25%</th>\n",
       "      <td>     0.000000</td>\n",
       "      <td>     0.000000</td>\n",
       "    </tr>\n",
       "    <tr>\n",
       "      <th>50%</th>\n",
       "      <td>     0.000000</td>\n",
       "      <td>     0.000000</td>\n",
       "    </tr>\n",
       "    <tr>\n",
       "      <th>75%</th>\n",
       "      <td>     0.000000</td>\n",
       "      <td>     0.000000</td>\n",
       "    </tr>\n",
       "    <tr>\n",
       "      <th>max</th>\n",
       "      <td>     1.000000</td>\n",
       "      <td>     1.000000</td>\n",
       "    </tr>\n",
       "  </tbody>\n",
       "</table>\n",
       "</div>"
      ],
      "text/plain": [
       "           count300      count500\n",
       "count  10886.000000  10886.000000\n",
       "mean       0.227999      0.073213\n",
       "std        0.419561      0.260498\n",
       "min        0.000000      0.000000\n",
       "25%        0.000000      0.000000\n",
       "50%        0.000000      0.000000\n",
       "75%        0.000000      0.000000\n",
       "max        1.000000      1.000000"
      ]
     },
     "execution_count": 89,
     "metadata": {},
     "output_type": "execute_result"
    }
   ],
   "source": [
    "train[['count300', 'count500']].describe()"
   ]
  },
  {
   "cell_type": "code",
   "execution_count": 88,
   "metadata": {
    "collapsed": false
   },
   "outputs": [
    {
     "data": {
      "text/html": [
       "<div style=\"max-height:1000px;max-width:1500px;overflow:auto;\">\n",
       "<table border=\"1\" class=\"dataframe\">\n",
       "  <thead>\n",
       "    <tr style=\"text-align: right;\">\n",
       "      <th></th>\n",
       "      <th>pred_count_300</th>\n",
       "      <th>pred_count_500</th>\n",
       "    </tr>\n",
       "  </thead>\n",
       "  <tbody>\n",
       "    <tr>\n",
       "      <th>count</th>\n",
       "      <td> 6493.000000</td>\n",
       "      <td> 6493.000000</td>\n",
       "    </tr>\n",
       "    <tr>\n",
       "      <th>mean</th>\n",
       "      <td>    0.190051</td>\n",
       "      <td>    0.046050</td>\n",
       "    </tr>\n",
       "    <tr>\n",
       "      <th>std</th>\n",
       "      <td>    0.392371</td>\n",
       "      <td>    0.209609</td>\n",
       "    </tr>\n",
       "    <tr>\n",
       "      <th>min</th>\n",
       "      <td>    0.000000</td>\n",
       "      <td>    0.000000</td>\n",
       "    </tr>\n",
       "    <tr>\n",
       "      <th>25%</th>\n",
       "      <td>    0.000000</td>\n",
       "      <td>    0.000000</td>\n",
       "    </tr>\n",
       "    <tr>\n",
       "      <th>50%</th>\n",
       "      <td>    0.000000</td>\n",
       "      <td>    0.000000</td>\n",
       "    </tr>\n",
       "    <tr>\n",
       "      <th>75%</th>\n",
       "      <td>    0.000000</td>\n",
       "      <td>    0.000000</td>\n",
       "    </tr>\n",
       "    <tr>\n",
       "      <th>max</th>\n",
       "      <td>    1.000000</td>\n",
       "      <td>    1.000000</td>\n",
       "    </tr>\n",
       "  </tbody>\n",
       "</table>\n",
       "</div>"
      ],
      "text/plain": [
       "       pred_count_300  pred_count_500\n",
       "count     6493.000000     6493.000000\n",
       "mean         0.190051        0.046050\n",
       "std          0.392371        0.209609\n",
       "min          0.000000        0.000000\n",
       "25%          0.000000        0.000000\n",
       "50%          0.000000        0.000000\n",
       "75%          0.000000        0.000000\n",
       "max          1.000000        1.000000"
      ]
     },
     "execution_count": 88,
     "metadata": {},
     "output_type": "execute_result"
    }
   ],
   "source": [
    "test[['pred_count_300', 'pred_count_500']].describe()"
   ]
  },
  {
   "cell_type": "code",
   "execution_count": 90,
   "metadata": {
    "collapsed": false
   },
   "outputs": [
    {
     "data": {
      "text/html": [
       "<div style=\"max-height:1000px;max-width:1500px;overflow:auto;\">\n",
       "<table border=\"1\" class=\"dataframe\">\n",
       "  <thead>\n",
       "    <tr style=\"text-align: right;\">\n",
       "      <th></th>\n",
       "      <th>season</th>\n",
       "      <th>holiday</th>\n",
       "      <th>workingday</th>\n",
       "      <th>weather</th>\n",
       "      <th>temp</th>\n",
       "      <th>atemp</th>\n",
       "      <th>humidity</th>\n",
       "      <th>windspeed</th>\n",
       "      <th>pred_count</th>\n",
       "      <th>pred_count_300</th>\n",
       "      <th>pred_count_500</th>\n",
       "    </tr>\n",
       "    <tr>\n",
       "      <th>datetime</th>\n",
       "      <th></th>\n",
       "      <th></th>\n",
       "      <th></th>\n",
       "      <th></th>\n",
       "      <th></th>\n",
       "      <th></th>\n",
       "      <th></th>\n",
       "      <th></th>\n",
       "      <th></th>\n",
       "      <th></th>\n",
       "      <th></th>\n",
       "    </tr>\n",
       "  </thead>\n",
       "  <tbody>\n",
       "    <tr>\n",
       "      <th>2011-01-24 04:00:00</th>\n",
       "      <td> 1</td>\n",
       "      <td> 0</td>\n",
       "      <td> 1</td>\n",
       "      <td> 1</td>\n",
       "      <td>  0.82</td>\n",
       "      <td>  3.030</td>\n",
       "      <td> 48</td>\n",
       "      <td>  8.9981</td>\n",
       "      <td> 1.171835</td>\n",
       "      <td> 1</td>\n",
       "      <td> 0</td>\n",
       "    </tr>\n",
       "    <tr>\n",
       "      <th>2011-01-24 05:00:00</th>\n",
       "      <td> 1</td>\n",
       "      <td> 0</td>\n",
       "      <td> 1</td>\n",
       "      <td> 1</td>\n",
       "      <td>  0.82</td>\n",
       "      <td>  3.030</td>\n",
       "      <td> 48</td>\n",
       "      <td>  8.9981</td>\n",
       "      <td> 1.171835</td>\n",
       "      <td> 1</td>\n",
       "      <td> 0</td>\n",
       "    </tr>\n",
       "    <tr>\n",
       "      <th>2011-01-28 22:00:00</th>\n",
       "      <td> 1</td>\n",
       "      <td> 0</td>\n",
       "      <td> 1</td>\n",
       "      <td> 1</td>\n",
       "      <td>  9.84</td>\n",
       "      <td> 10.605</td>\n",
       "      <td> 65</td>\n",
       "      <td> 23.9994</td>\n",
       "      <td> 0.300174</td>\n",
       "      <td> 1</td>\n",
       "      <td> 0</td>\n",
       "    </tr>\n",
       "    <tr>\n",
       "      <th>2011-01-31 00:00:00</th>\n",
       "      <td> 1</td>\n",
       "      <td> 0</td>\n",
       "      <td> 1</td>\n",
       "      <td> 2</td>\n",
       "      <td>  9.84</td>\n",
       "      <td> 11.365</td>\n",
       "      <td> 65</td>\n",
       "      <td> 15.0013</td>\n",
       "      <td> 0.282344</td>\n",
       "      <td> 1</td>\n",
       "      <td> 0</td>\n",
       "    </tr>\n",
       "    <tr>\n",
       "      <th>2011-02-21 00:00:00</th>\n",
       "      <td> 1</td>\n",
       "      <td> 1</td>\n",
       "      <td> 0</td>\n",
       "      <td> 2</td>\n",
       "      <td> 13.94</td>\n",
       "      <td> 15.150</td>\n",
       "      <td> 42</td>\n",
       "      <td> 22.0028</td>\n",
       "      <td> 0.977344</td>\n",
       "      <td> 1</td>\n",
       "      <td> 0</td>\n",
       "    </tr>\n",
       "  </tbody>\n",
       "</table>\n",
       "</div>"
      ],
      "text/plain": [
       "                     season  holiday  workingday  weather   temp   atemp  \\\n",
       "datetime                                                                   \n",
       "2011-01-24 04:00:00       1        0           1        1   0.82   3.030   \n",
       "2011-01-24 05:00:00       1        0           1        1   0.82   3.030   \n",
       "2011-01-28 22:00:00       1        0           1        1   9.84  10.605   \n",
       "2011-01-31 00:00:00       1        0           1        2   9.84  11.365   \n",
       "2011-02-21 00:00:00       1        1           0        2  13.94  15.150   \n",
       "\n",
       "                     humidity  windspeed  pred_count  pred_count_300  \\\n",
       "datetime                                                               \n",
       "2011-01-24 04:00:00        48     8.9981    1.171835               1   \n",
       "2011-01-24 05:00:00        48     8.9981    1.171835               1   \n",
       "2011-01-28 22:00:00        65    23.9994    0.300174               1   \n",
       "2011-01-31 00:00:00        65    15.0013    0.282344               1   \n",
       "2011-02-21 00:00:00        42    22.0028    0.977344               1   \n",
       "\n",
       "                     pred_count_500  \n",
       "datetime                             \n",
       "2011-01-24 04:00:00               0  \n",
       "2011-01-24 05:00:00               0  \n",
       "2011-01-28 22:00:00               0  \n",
       "2011-01-31 00:00:00               0  \n",
       "2011-02-21 00:00:00               0  "
      ]
     },
     "execution_count": 90,
     "metadata": {},
     "output_type": "execute_result"
    }
   ],
   "source": [
    "test[test['pred_count_300'] != test['pred_count_500']].head()"
   ]
  },
  {
   "cell_type": "markdown",
   "metadata": {},
   "source": [
    "## Regressor Model (absolute counts)"
   ]
  },
  {
   "cell_type": "code",
   "execution_count": 91,
   "metadata": {
    "collapsed": true
   },
   "outputs": [],
   "source": [
    "tree_reg = GradientBoostingRegressor(\n",
    "    max_depth=4,\n",
    "    min_samples_split=20,\n",
    "    verbose=1,\n",
    "    random_state=12345,\n",
    "    n_estimators=10000\n",
    ")"
   ]
  },
  {
   "cell_type": "code",
   "execution_count": 92,
   "metadata": {
    "collapsed": false
   },
   "outputs": [
    {
     "name": "stdout",
     "output_type": "stream",
     "text": [
      "      Iter       Train Loss   Remaining Time \n",
      "         1       31018.4037            2.06m\n",
      "         2       29544.3299            1.83m\n",
      "         3       28348.3946            1.73m\n",
      "         4       27321.9671            1.59m\n",
      "         5       26466.1852            1.51m\n",
      "         6       25765.3836            1.53m\n",
      "         7       25169.1411            1.58m\n",
      "         8       24625.3453            1.53m\n",
      "         9       24164.1193            1.58m\n",
      "        10       23802.6515            1.54m\n",
      "        20       21927.1137            1.32m\n",
      "        30       21319.4552            1.28m\n",
      "        40       21037.5797            1.27m\n",
      "        50       20821.9366            1.23m\n",
      "        60       20708.2364            1.20m\n",
      "        70       20525.7981            1.20m\n",
      "        80       20363.9526            1.18m\n",
      "        90       20220.0982            1.17m\n",
      "       100       20080.0321            1.16m\n",
      "       200       19175.1489            1.09m\n",
      "       300       18520.0380            1.02m\n",
      "       400       17964.1401           58.91s\n",
      "       500       17491.7154           57.38s\n",
      "       600       17119.6055           55.58s\n",
      "       700       16803.8981           56.04s\n",
      "       800       16514.5069           55.41s\n",
      "       900       16295.3008           56.60s\n",
      "      1000       16024.4794           57.24s\n",
      "      2000       14309.1681           47.66s\n",
      "      3000       13218.6409           41.08s\n",
      "      4000       12423.8095           34.43s\n",
      "      5000       11820.9435           28.53s\n",
      "      6000       11327.5831           22.68s\n",
      "      7000       10918.4897           16.91s\n",
      "      8000       10550.0439           11.28s\n",
      "      9000       10259.7408            5.67s\n",
      "     10000        9983.9615            0.00s\n"
     ]
    },
    {
     "data": {
      "text/plain": [
       "GradientBoostingRegressor(alpha=0.9, init=None, learning_rate=0.1, loss='ls',\n",
       "             max_depth=4, max_features=None, max_leaf_nodes=None,\n",
       "             min_samples_leaf=1, min_samples_split=20, n_estimators=10000,\n",
       "             random_state=12345, subsample=1.0, verbose=1,\n",
       "             warm_start=False)"
      ]
     },
     "execution_count": 92,
     "metadata": {},
     "output_type": "execute_result"
    }
   ],
   "source": [
    "tree_reg.fit(\n",
    "    train[['season','holiday','workingday','weather','temp','atemp','humidity','windspeed']],\n",
    "    train['count']\n",
    ")"
   ]
  },
  {
   "cell_type": "code",
   "execution_count": 93,
   "metadata": {
    "collapsed": true
   },
   "outputs": [],
   "source": [
    "pred = tree_reg.predict(test[['season','holiday','workingday','weather','temp','atemp','humidity','windspeed']])"
   ]
  },
  {
   "cell_type": "code",
   "execution_count": 94,
   "metadata": {
    "collapsed": true
   },
   "outputs": [],
   "source": [
    "test['pred_count'] = pred"
   ]
  },
  {
   "cell_type": "code",
   "execution_count": 96,
   "metadata": {
    "collapsed": false
   },
   "outputs": [
    {
     "data": {
      "text/plain": [
       "count    6493.000000\n",
       "mean      187.145007\n",
       "std       139.830340\n",
       "min      -281.146476\n",
       "25%        87.162560\n",
       "50%       165.680319\n",
       "75%       266.946637\n",
       "max       910.818605\n",
       "dtype: float64"
      ]
     },
     "execution_count": 96,
     "metadata": {},
     "output_type": "execute_result"
    }
   ],
   "source": [
    "test['pred_count'].describe()"
   ]
  },
  {
   "cell_type": "code",
   "execution_count": 95,
   "metadata": {
    "collapsed": false
   },
   "outputs": [
    {
     "data": {
      "text/html": [
       "<div style=\"max-height:1000px;max-width:1500px;overflow:auto;\">\n",
       "<table border=\"1\" class=\"dataframe\">\n",
       "  <thead>\n",
       "    <tr style=\"text-align: right;\">\n",
       "      <th></th>\n",
       "      <th>season</th>\n",
       "      <th>holiday</th>\n",
       "      <th>workingday</th>\n",
       "      <th>weather</th>\n",
       "      <th>temp</th>\n",
       "      <th>atemp</th>\n",
       "      <th>humidity</th>\n",
       "      <th>windspeed</th>\n",
       "      <th>pred_count</th>\n",
       "      <th>pred_count_300</th>\n",
       "      <th>pred_count_500</th>\n",
       "    </tr>\n",
       "    <tr>\n",
       "      <th>datetime</th>\n",
       "      <th></th>\n",
       "      <th></th>\n",
       "      <th></th>\n",
       "      <th></th>\n",
       "      <th></th>\n",
       "      <th></th>\n",
       "      <th></th>\n",
       "      <th></th>\n",
       "      <th></th>\n",
       "      <th></th>\n",
       "      <th></th>\n",
       "    </tr>\n",
       "  </thead>\n",
       "  <tbody>\n",
       "    <tr>\n",
       "      <th>2011-01-20 00:00:00</th>\n",
       "      <td> 1</td>\n",
       "      <td> 0</td>\n",
       "      <td> 1</td>\n",
       "      <td> 1</td>\n",
       "      <td> 10.66</td>\n",
       "      <td> 11.365</td>\n",
       "      <td> 56</td>\n",
       "      <td> 26.0027</td>\n",
       "      <td> 126.869401</td>\n",
       "      <td> 0</td>\n",
       "      <td> 0</td>\n",
       "    </tr>\n",
       "    <tr>\n",
       "      <th>2011-01-20 01:00:00</th>\n",
       "      <td> 1</td>\n",
       "      <td> 0</td>\n",
       "      <td> 1</td>\n",
       "      <td> 1</td>\n",
       "      <td> 10.66</td>\n",
       "      <td> 13.635</td>\n",
       "      <td> 56</td>\n",
       "      <td>  0.0000</td>\n",
       "      <td>  43.388971</td>\n",
       "      <td> 0</td>\n",
       "      <td> 0</td>\n",
       "    </tr>\n",
       "    <tr>\n",
       "      <th>2011-01-20 02:00:00</th>\n",
       "      <td> 1</td>\n",
       "      <td> 0</td>\n",
       "      <td> 1</td>\n",
       "      <td> 1</td>\n",
       "      <td> 10.66</td>\n",
       "      <td> 13.635</td>\n",
       "      <td> 56</td>\n",
       "      <td>  0.0000</td>\n",
       "      <td>  43.388971</td>\n",
       "      <td> 0</td>\n",
       "      <td> 0</td>\n",
       "    </tr>\n",
       "    <tr>\n",
       "      <th>2011-01-20 03:00:00</th>\n",
       "      <td> 1</td>\n",
       "      <td> 0</td>\n",
       "      <td> 1</td>\n",
       "      <td> 1</td>\n",
       "      <td> 10.66</td>\n",
       "      <td> 12.880</td>\n",
       "      <td> 56</td>\n",
       "      <td> 11.0014</td>\n",
       "      <td>  56.392707</td>\n",
       "      <td> 0</td>\n",
       "      <td> 0</td>\n",
       "    </tr>\n",
       "    <tr>\n",
       "      <th>2011-01-20 04:00:00</th>\n",
       "      <td> 1</td>\n",
       "      <td> 0</td>\n",
       "      <td> 1</td>\n",
       "      <td> 1</td>\n",
       "      <td> 10.66</td>\n",
       "      <td> 12.880</td>\n",
       "      <td> 56</td>\n",
       "      <td> 11.0014</td>\n",
       "      <td>  56.392707</td>\n",
       "      <td> 0</td>\n",
       "      <td> 0</td>\n",
       "    </tr>\n",
       "  </tbody>\n",
       "</table>\n",
       "</div>"
      ],
      "text/plain": [
       "                     season  holiday  workingday  weather   temp   atemp  \\\n",
       "datetime                                                                   \n",
       "2011-01-20 00:00:00       1        0           1        1  10.66  11.365   \n",
       "2011-01-20 01:00:00       1        0           1        1  10.66  13.635   \n",
       "2011-01-20 02:00:00       1        0           1        1  10.66  13.635   \n",
       "2011-01-20 03:00:00       1        0           1        1  10.66  12.880   \n",
       "2011-01-20 04:00:00       1        0           1        1  10.66  12.880   \n",
       "\n",
       "                     humidity  windspeed  pred_count  pred_count_300  \\\n",
       "datetime                                                               \n",
       "2011-01-20 00:00:00        56    26.0027  126.869401               0   \n",
       "2011-01-20 01:00:00        56     0.0000   43.388971               0   \n",
       "2011-01-20 02:00:00        56     0.0000   43.388971               0   \n",
       "2011-01-20 03:00:00        56    11.0014   56.392707               0   \n",
       "2011-01-20 04:00:00        56    11.0014   56.392707               0   \n",
       "\n",
       "                     pred_count_500  \n",
       "datetime                             \n",
       "2011-01-20 00:00:00               0  \n",
       "2011-01-20 01:00:00               0  \n",
       "2011-01-20 02:00:00               0  \n",
       "2011-01-20 03:00:00               0  \n",
       "2011-01-20 04:00:00               0  "
      ]
     },
     "execution_count": 95,
     "metadata": {},
     "output_type": "execute_result"
    }
   ],
   "source": [
    "test.head()"
   ]
  },
  {
   "cell_type": "code",
   "execution_count": 99,
   "metadata": {
    "collapsed": false
   },
   "outputs": [
    {
     "data": {
      "text/plain": [
       "(array([   10.,    89.,  1334.,  2367.,  1600.,   721.,   252.,    97.,\n",
       "           15.,     8.]),\n",
       " array([-281.14647609, -161.94996803,  -42.75345997,   76.44304809,\n",
       "         195.63955615,  314.83606421,  434.03257227,  553.22908033,\n",
       "         672.42558839,  791.62209645,  910.81860451]),\n",
       " <a list of 10 Patch objects>)"
      ]
     },
     "execution_count": 99,
     "metadata": {},
     "output_type": "execute_result"
    },
    {
     "data": {
      "image/png": "[encoded data removed]",
      "text/plain": [
       "<matplotlib.figure.Figure at 0x11be8bfd0>"
      ]
     },
     "metadata": {},
     "output_type": "display_data"
    }
   ],
   "source": [
    "plt.hist(test['pred_count'],color='b')"
   ]
  },
  {
   "cell_type": "code",
   "execution_count": null,
   "metadata": {
    "collapsed": true
   },
   "outputs": [],
   "source": []
  }
 ],
 "metadata": {
  "kernelspec": {
   "display_name": "Python 2",
   "language": "python",
   "name": "python2"
  },
  "language_info": {
   "codemirror_mode": {
    "name": "ipython",
    "version": 2
   },
   "file_extension": ".py",
   "mimetype": "text/x-python",
   "name": "python",
   "nbconvert_exporter": "python",
   "pygments_lexer": "ipython2",
   "version": "2.7.9"
  }
 },
 "nbformat": 4,
 "nbformat_minor": 0
}
